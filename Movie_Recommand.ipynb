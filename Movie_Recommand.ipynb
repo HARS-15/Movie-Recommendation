{
  "nbformat": 4,
  "nbformat_minor": 0,
  "metadata": {
    "colab": {
      "provenance": []
    },
    "kernelspec": {
      "name": "python3",
      "display_name": "Python 3"
    },
    "language_info": {
      "name": "python"
    }
  },
  "cells": [
    {
      "cell_type": "markdown",
      "source": [
        "# **Movie Recomendation system**\n",
        "\n",
        "\n",
        "\n",
        "\n",
        "\n"
      ],
      "metadata": {
        "id": "mUOMpwa0j5z4"
      }
    },
    {
      "cell_type": "markdown",
      "source": [
        "**Importing the packages**"
      ],
      "metadata": {
        "id": "HljQC2ZRkWca"
      }
    },
    {
      "cell_type": "code",
      "execution_count": 60,
      "metadata": {
        "id": "f-cObsgbiqd8"
      },
      "outputs": [],
      "source": [
        "import pandas as pd\n",
        "import matplotlib.pyplot as plt\n",
        "import math\n",
        "import numpy as np\n",
        "import difflib\n",
        "from sklearn.metrics.pairwise import cosine_similarity\n",
        "from sklearn.feature_extraction.text import TfidfVectorizer"
      ]
    },
    {
      "cell_type": "markdown",
      "source": [
        "**Reading the file**"
      ],
      "metadata": {
        "id": "0RCz8PjOkjFO"
      }
    },
    {
      "cell_type": "code",
      "source": [
        "data=pd.read_csv(\"movies.csv\")"
      ],
      "metadata": {
        "id": "GEG6dsi9kGwR"
      },
      "execution_count": 61,
      "outputs": []
    },
    {
      "cell_type": "markdown",
      "source": [
        "**Details of File**"
      ],
      "metadata": {
        "id": "0dQmUa_pkoSI"
      }
    },
    {
      "cell_type": "code",
      "source": [
        "data.info()"
      ],
      "metadata": {
        "colab": {
          "base_uri": "https://localhost:8080/"
        },
        "id": "FLt7qYNpkvZA",
        "outputId": "27604768-f5e4-4b09-97c7-2c75f09f400a"
      },
      "execution_count": 62,
      "outputs": [
        {
          "output_type": "stream",
          "name": "stdout",
          "text": [
            "<class 'pandas.core.frame.DataFrame'>\n",
            "RangeIndex: 4803 entries, 0 to 4802\n",
            "Data columns (total 24 columns):\n",
            " #   Column                Non-Null Count  Dtype  \n",
            "---  ------                --------------  -----  \n",
            " 0   index                 4803 non-null   int64  \n",
            " 1   budget                4803 non-null   int64  \n",
            " 2   genres                4775 non-null   object \n",
            " 3   homepage              1712 non-null   object \n",
            " 4   id                    4803 non-null   int64  \n",
            " 5   keywords              4391 non-null   object \n",
            " 6   original_language     4803 non-null   object \n",
            " 7   original_title        4803 non-null   object \n",
            " 8   overview              4800 non-null   object \n",
            " 9   popularity            4803 non-null   float64\n",
            " 10  production_companies  4803 non-null   object \n",
            " 11  production_countries  4803 non-null   object \n",
            " 12  release_date          4802 non-null   object \n",
            " 13  revenue               4803 non-null   int64  \n",
            " 14  runtime               4801 non-null   float64\n",
            " 15  spoken_languages      4803 non-null   object \n",
            " 16  status                4803 non-null   object \n",
            " 17  tagline               3959 non-null   object \n",
            " 18  title                 4803 non-null   object \n",
            " 19  vote_average          4803 non-null   float64\n",
            " 20  vote_count            4803 non-null   int64  \n",
            " 21  cast                  4760 non-null   object \n",
            " 22  crew                  4803 non-null   object \n",
            " 23  director              4773 non-null   object \n",
            "dtypes: float64(3), int64(5), object(16)\n",
            "memory usage: 900.7+ KB\n"
          ]
        }
      ]
    },
    {
      "cell_type": "markdown",
      "source": [
        "**Getting the req_data from data set**"
      ],
      "metadata": {
        "id": "eFGpKI1Zkv6M"
      }
    },
    {
      "cell_type": "code",
      "source": [
        "req_data=data.iloc[:,[2,5,8,9,12,14,15,19,21,23]]"
      ],
      "metadata": {
        "id": "oeNr1yG-3CX5"
      },
      "execution_count": 63,
      "outputs": []
    },
    {
      "cell_type": "markdown",
      "source": [
        "**Converting all data to string format and filling the null values**"
      ],
      "metadata": {
        "id": "TOGei6Vsk99p"
      }
    },
    {
      "cell_type": "code",
      "source": [
        "for i in req_data.keys():\n",
        "  req_data[i]=req_data[i].astype(\"string\")\n",
        "  req_data[i]=req_data[i].fillna(\"\")"
      ],
      "metadata": {
        "colab": {
          "base_uri": "https://localhost:8080/"
        },
        "id": "V9OVuoPUk2pY",
        "outputId": "d598782b-cbfa-4da3-9337-c2662a798d1e"
      },
      "execution_count": 64,
      "outputs": [
        {
          "output_type": "stream",
          "name": "stderr",
          "text": [
            "<ipython-input-64-5eab926dcb66>:2: SettingWithCopyWarning: \n",
            "A value is trying to be set on a copy of a slice from a DataFrame.\n",
            "Try using .loc[row_indexer,col_indexer] = value instead\n",
            "\n",
            "See the caveats in the documentation: https://pandas.pydata.org/pandas-docs/stable/user_guide/indexing.html#returning-a-view-versus-a-copy\n",
            "  req_data[i]=req_data[i].astype(\"string\")\n",
            "<ipython-input-64-5eab926dcb66>:3: SettingWithCopyWarning: \n",
            "A value is trying to be set on a copy of a slice from a DataFrame.\n",
            "Try using .loc[row_indexer,col_indexer] = value instead\n",
            "\n",
            "See the caveats in the documentation: https://pandas.pydata.org/pandas-docs/stable/user_guide/indexing.html#returning-a-view-versus-a-copy\n",
            "  req_data[i]=req_data[i].fillna(\"\")\n"
          ]
        }
      ]
    },
    {
      "cell_type": "code",
      "source": [
        "req_data.info()"
      ],
      "metadata": {
        "colab": {
          "base_uri": "https://localhost:8080/"
        },
        "id": "VG1KNIRT5Pxh",
        "outputId": "95a084eb-d7a5-4cb4-bd07-84e0d5e78daa"
      },
      "execution_count": 65,
      "outputs": [
        {
          "output_type": "stream",
          "name": "stdout",
          "text": [
            "<class 'pandas.core.frame.DataFrame'>\n",
            "RangeIndex: 4803 entries, 0 to 4802\n",
            "Data columns (total 10 columns):\n",
            " #   Column            Non-Null Count  Dtype \n",
            "---  ------            --------------  ----- \n",
            " 0   genres            4803 non-null   string\n",
            " 1   keywords          4803 non-null   string\n",
            " 2   overview          4803 non-null   string\n",
            " 3   popularity        4803 non-null   string\n",
            " 4   release_date      4803 non-null   string\n",
            " 5   runtime           4803 non-null   string\n",
            " 6   spoken_languages  4803 non-null   string\n",
            " 7   vote_average      4803 non-null   string\n",
            " 8   cast              4803 non-null   string\n",
            " 9   director          4803 non-null   string\n",
            "dtypes: string(10)\n",
            "memory usage: 375.4 KB\n"
          ]
        }
      ]
    },
    {
      "cell_type": "markdown",
      "source": [
        "**converting the secondary factors into a single attribute of string**"
      ],
      "metadata": {
        "id": "7KoO45JtlTfF"
      }
    },
    {
      "cell_type": "code",
      "source": [
        "#movie recomdations based on genres,release_date,cast,director,and remain\n",
        "string=req_data['keywords']+\" \"+req_data['director']+\" \"+req_data['overview']+\" \"+req_data['popularity']+\" \"+req_data['runtime']+\" \"+req_data['spoken_languages']+\" \"+req_data['vote_average']"
      ],
      "metadata": {
        "id": "W5pWud863b8o"
      },
      "execution_count": 66,
      "outputs": []
    },
    {
      "cell_type": "markdown",
      "source": [
        "\n",
        "\n",
        "*   Creation of individual normalised vector for primary factors\n",
        "*   similarly common normalised vector for secondary factors\n",
        "\n"
      ],
      "metadata": {
        "id": "yG469I80ljos"
      }
    },
    {
      "cell_type": "code",
      "source": [
        "vector1=TfidfVectorizer().fit_transform(req_data[\"genres\"])\n",
        "vector2=TfidfVectorizer().fit_transform(req_data[\"release_date\"]+\" \"+req_data[\"popularity\"])\n",
        "vector3=TfidfVectorizer().fit_transform(req_data[\"cast\"])\n",
        "vector4=TfidfVectorizer().fit_transform(string)"
      ],
      "metadata": {
        "id": "IO4zHSuqml0H"
      },
      "execution_count": 67,
      "outputs": []
    },
    {
      "cell_type": "markdown",
      "source": [
        "**Generation of similarity scores for those vectors**"
      ],
      "metadata": {
        "id": "2vZNw_F-mKwE"
      }
    },
    {
      "cell_type": "code",
      "source": [
        "similar_genres=cosine_similarity(vector1)\n",
        "similar_release_date=cosine_similarity(vector2)\n",
        "similar_cast=cosine_similarity(vector3)\n",
        "similar_other_factors=cosine_similarity(vector4)"
      ],
      "metadata": {
        "id": "pWXD7oqPoi1I"
      },
      "execution_count": 68,
      "outputs": []
    },
    {
      "cell_type": "markdown",
      "source": [
        "**Reading input from user and then matching it with the closest ones**"
      ],
      "metadata": {
        "id": "rYDf6gqMmS6H"
      }
    },
    {
      "cell_type": "code",
      "source": [
        "while (True):\n",
        "  movie=input(\"Enter Movie Name:\")\n",
        "  movie_name=difflib.get_close_matches(movie,data[\"title\"])\n",
        "  if(len(movie_name)==0):\n",
        "    print(\"No recomendations found\")\n",
        "    print(\"Try with other name\")\n",
        "  else:\n",
        "    break\n",
        "val=data[data.title==movie_name[0]][\"index\"].values[0]\n",
        "movie=data.loc[[int(val)],[\"title\"]].values[0][0]\n",
        "genres=data.loc[[int(val)],[\"genres\"]].values[0][0]\n",
        "cast=data.loc[[int(val)],[\"cast\"]].values[0][0]\n",
        "release_date=data.loc[[int(val)],[\"release_date\"]].values[0][0]\n",
        "print(\"Movie Name:\",movie)\n",
        "print(\"genres:\",genres)\n",
        "print(\"cast:\",cast)\n",
        "print(\"release date:\",release_date)"
      ],
      "metadata": {
        "colab": {
          "base_uri": "https://localhost:8080/"
        },
        "id": "Xwcb9ixorpNk",
        "outputId": "a2636b6a-223d-4b1d-8270-aa9fe1347344"
      },
      "execution_count": 69,
      "outputs": [
        {
          "output_type": "stream",
          "name": "stdout",
          "text": [
            "Enter Movie Name:avtar\n",
            "Movie Name: Avatar\n",
            "genres: Action Adventure Fantasy Science Fiction\n",
            "cast: Sam Worthington Zoe Saldana Sigourney Weaver Stephen Lang Michelle Rodriguez\n",
            "release date: 2009-12-10\n"
          ]
        }
      ]
    },
    {
      "cell_type": "markdown",
      "source": [
        "**Getting similarity scores for the given movie**"
      ],
      "metadata": {
        "id": "mu_CsZ4Smgjy"
      }
    },
    {
      "cell_type": "code",
      "source": [
        "genres_score=list(enumerate(similar_genres[val]))\n",
        "cast_score=list(enumerate(similar_cast[val]))\n",
        "release_score=list(enumerate(similar_release_date[val]))\n",
        "others_score=list(enumerate(similar_other_factors[val]))"
      ],
      "metadata": {
        "id": "s1wqzCoUs_6p"
      },
      "execution_count": 70,
      "outputs": []
    },
    {
      "cell_type": "markdown",
      "source": [
        "**Recomending movies based on the User Zone**"
      ],
      "metadata": {
        "id": "jw4xd5X4m72k"
      }
    },
    {
      "cell_type": "code",
      "source": [
        "count=0\n",
        "recomanded_movies=[]\n",
        "sorted_recomandations=sorted(genres_score,key=lambda x:x[1],reverse=True)\n",
        "for i in sorted_recomandations:\n",
        "  index=i[0]\n",
        "  recomanded_movies.append(data[data.index==index]['title'].values[0])\n",
        "  count+=1\n",
        "  if(count>(10)):\n",
        "    break\n",
        "for i in recomanded_movies:\n",
        "  va=data[data.title==i][\"homepage\"].values[0]\n",
        "  if pd.isnull(va):\n",
        "    print(i)\n",
        "  else:\n",
        "    print(i,va)"
      ],
      "metadata": {
        "colab": {
          "base_uri": "https://localhost:8080/"
        },
        "id": "kXtEnqRbvpq6",
        "outputId": "1b5f1296-4279-4060-81dd-8fa018c2c15c"
      },
      "execution_count": 71,
      "outputs": [
        {
          "output_type": "stream",
          "name": "stdout",
          "text": [
            "Avatar http://www.avatarmovie.com/\n",
            "Superman Returns http://www.superman.com\n",
            "Man of Steel http://www.manofsteel.com/\n",
            "X-Men: Days of Future Past http://www.x-menmovies.com/\n",
            "Jupiter Ascending http://www.jupiterascending.com\n",
            "The Wolverine http://www.thewolverinemovie.com\n",
            "Superman\n",
            "Superman II\n",
            "Beastmaster 2: Through the Portal of Time\n",
            "Teenage Mutant Ninja Turtles http://www.teenagemutantninjaturtlesmovie.com\n",
            "Mystery Men\n"
          ]
        }
      ]
    },
    {
      "cell_type": "markdown",
      "source": [
        "**Recomending movies based on user Favorite characters**"
      ],
      "metadata": {
        "id": "38RNTgqanWUO"
      }
    },
    {
      "cell_type": "code",
      "source": [
        "count=0\n",
        "recomanded_movies=[]\n",
        "sorted_recomandations=sorted(cast_score,key=lambda x:x[1],reverse=True)\n",
        "for i in sorted_recomandations:\n",
        "  index=i[0]\n",
        "  recomanded_movies.append(data[data.index==index]['title'].values[0])\n",
        "  count+=1\n",
        "  if(count>(10)):\n",
        "    break\n",
        "for i in recomanded_movies:\n",
        "  va=data[data.title==i][\"homepage\"].values[0]\n",
        "  if pd.isnull(va):\n",
        "    print(i)\n",
        "  else:\n",
        "    print(i,va)"
      ],
      "metadata": {
        "colab": {
          "base_uri": "https://localhost:8080/"
        },
        "id": "JE8LJvZUET_9",
        "outputId": "4bb45041-911d-49e7-f649-8cef1ed404ea"
      },
      "execution_count": 73,
      "outputs": [
        {
          "output_type": "stream",
          "name": "stdout",
          "text": [
            "Avatar http://www.avatarmovie.com/\n",
            "Gettysburg\n",
            "Out of the Furnace\n",
            "Galaxy Quest\n",
            "Imaginary Heroes http://www.sonypictures.com/classics/imaginary/site.html\n",
            "Snow White: A Tale of Terror\n",
            "The Words http://www.thewordsmovie.com/\n",
            "Everest http://www.everestmovie.com/\n",
            "Drumline\n",
            "Get Over It\n",
            "Vantage Point http://www.vantagepoint-movie.com/index.php\n"
          ]
        }
      ]
    },
    {
      "cell_type": "markdown",
      "source": [
        "**Recomending movies based on user interested time-zone**"
      ],
      "metadata": {
        "id": "ad5jfjaMnoo6"
      }
    },
    {
      "cell_type": "code",
      "source": [
        "count=0\n",
        "recomanded_movies=[]\n",
        "sorted_recomandations=sorted(release_score,key=lambda x:x[1],reverse=True)\n",
        "for i in sorted_recomandations:\n",
        "  index=i[0]\n",
        "  recomanded_movies.append(data[data.index==index]['title'].values[0])\n",
        "  count+=1\n",
        "  if(count>(10)):\n",
        "    break\n",
        "for i in recomanded_movies:\n",
        "  va=data[data.title==i][\"homepage\"].values[0]\n",
        "  if pd.isnull(va):\n",
        "    print(i)\n",
        "  else:\n",
        "    print(i,va)"
      ],
      "metadata": {
        "id": "PmsD7bWcEvXm",
        "colab": {
          "base_uri": "https://localhost:8080/"
        },
        "outputId": "bed0e718-4b0b-4e8f-a674-8b3bb98b3ed1"
      },
      "execution_count": 74,
      "outputs": [
        {
          "output_type": "stream",
          "name": "stdout",
          "text": [
            "Avatar http://www.avatarmovie.com/\n",
            "A Shine of Rainbows\n",
            "Life During Wartime http://www.ifcfilms.com/films/life-during-wartime-2\n",
            "Chicago Overcoat\n",
            "Invictus http://invictusmovie.warnerbros.com\n",
            "Observe and Report\n",
            "Oceans http://oceans-lefilm.com/\n",
            "2012 http://www.sonypictures.com/movies/2012\n",
            "Defendor\n",
            "A Woman, a Gun and a Noodle Shop\n",
            "Rocket Singh: Salesman of the Year http://www.yashrajfilms.com/microsites/rocketsingh/rswebsite.html\n"
          ]
        }
      ]
    },
    {
      "cell_type": "markdown",
      "source": [
        "**Recomending movies that adds on interest**"
      ],
      "metadata": {
        "id": "gGNpw3hSn0sg"
      }
    },
    {
      "cell_type": "code",
      "source": [
        "count=0\n",
        "recomanded_movies=[]\n",
        "sorted_recomandations=sorted(others_score,key=lambda x:x[1],reverse=True)\n",
        "for i in sorted_recomandations:\n",
        "  index=i[0]\n",
        "  recomanded_movies.append(data[data.index==index]['title'].values[0])\n",
        "  count+=1\n",
        "  if(count>10):\n",
        "    break\n",
        "for i in recomanded_movies:\n",
        "  va=data[data.title==i][\"homepage\"].values[0]\n",
        "  if pd.isnull(va):\n",
        "    print(i)\n",
        "  else:\n",
        "    print(i,va)"
      ],
      "metadata": {
        "id": "Z7amTsa6GIgC",
        "colab": {
          "base_uri": "https://localhost:8080/"
        },
        "outputId": "8d5f52c7-d6dd-4920-ad58-a6eba8a2fa4f"
      },
      "execution_count": 75,
      "outputs": [
        {
          "output_type": "stream",
          "name": "stdout",
          "text": [
            "Avatar http://www.avatarmovie.com/\n",
            "Lifeforce\n",
            "Moonraker http://www.mgm.com/view/movie/1292/Moonraker/\n",
            "Gattaca\n",
            "Gravity http://gravitymovie.warnerbros.com/\n",
            "Cargo http://www.cargoderfilm.ch http://cargothemovie.com\n",
            "Space Chimps http://www.spacechimpspower.com/\n",
            "Apollo 18 http://apollo18movie.net/\n",
            "Starship Troopers\n",
            "Deep Impact\n",
            "Alien https://www.facebook.com/alienanthology/\n"
          ]
        }
      ]
    }
  ]
}